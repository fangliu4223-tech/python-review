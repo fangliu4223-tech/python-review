{
 "cells": [
  {
   "cell_type": "code",
   "id": "initial_id",
   "metadata": {
    "collapsed": true,
    "ExecuteTime": {
     "end_time": "2025-09-16T10:04:23.760584Z",
     "start_time": "2025-09-16T10:04:23.730297Z"
    }
   },
   "source": [
    "import math\n",
    "print(math.sqrt(16))  # 输出：4.0\n"
   ],
   "outputs": [
    {
     "name": "stdout",
     "output_type": "stream",
     "text": [
      "4.0\n"
     ]
    }
   ],
   "execution_count": 1
  },
  {
   "metadata": {
    "ExecuteTime": {
     "end_time": "2025-09-16T10:04:29.738977Z",
     "start_time": "2025-09-16T10:04:29.724412Z"
    }
   },
   "cell_type": "code",
   "source": [
    "import math\n",
    "print(math.sin(math.pi / 2))  # 输出：1.0\n",
    "print(math.cos(math.pi))  # 输出：-1.0\n"
   ],
   "id": "546af3fffdd86df4",
   "outputs": [
    {
     "name": "stdout",
     "output_type": "stream",
     "text": [
      "1.0\n",
      "-1.0\n"
     ]
    }
   ],
   "execution_count": 2
  },
  {
   "metadata": {
    "ExecuteTime": {
     "end_time": "2025-09-16T10:04:37.428547Z",
     "start_time": "2025-09-16T10:04:37.414968Z"
    }
   },
   "cell_type": "code",
   "source": [
    "import math\n",
    "print(math.log(8, 2))  # 输出：3.0\n"
   ],
   "id": "e43bb26a65a03f0a",
   "outputs": [
    {
     "name": "stdout",
     "output_type": "stream",
     "text": [
      "3.0\n"
     ]
    }
   ],
   "execution_count": 3
  },
  {
   "metadata": {
    "ExecuteTime": {
     "end_time": "2025-09-16T10:04:42.046340Z",
     "start_time": "2025-09-16T10:04:42.033220Z"
    }
   },
   "cell_type": "code",
   "source": [
    "import math\n",
    "print(math.factorial(5))  # 输出：120\n"
   ],
   "id": "3e131e0e3730c344",
   "outputs": [
    {
     "name": "stdout",
     "output_type": "stream",
     "text": [
      "120\n"
     ]
    }
   ],
   "execution_count": 4
  },
  {
   "metadata": {
    "ExecuteTime": {
     "end_time": "2025-09-16T10:04:46.012428Z",
     "start_time": "2025-09-16T10:04:45.998909Z"
    }
   },
   "cell_type": "code",
   "source": [
    "import math\n",
    "print(math.pi)  # 输出：3.141592653589793\n"
   ],
   "id": "c2d89b6c24672c19",
   "outputs": [
    {
     "name": "stdout",
     "output_type": "stream",
     "text": [
      "3.141592653589793\n"
     ]
    }
   ],
   "execution_count": 5
  },
  {
   "metadata": {
    "ExecuteTime": {
     "end_time": "2025-09-16T10:04:49.362154Z",
     "start_time": "2025-09-16T10:04:49.348589Z"
    }
   },
   "cell_type": "code",
   "source": [
    "import random\n",
    "print(random.randint(1, 10))  # 输出：1 到 10 之间的随机整数\n"
   ],
   "id": "e30c1cd7dbb4bda",
   "outputs": [
    {
     "name": "stdout",
     "output_type": "stream",
     "text": [
      "5\n"
     ]
    }
   ],
   "execution_count": 6
  },
  {
   "metadata": {
    "ExecuteTime": {
     "end_time": "2025-09-16T10:04:53.750982Z",
     "start_time": "2025-09-16T10:04:53.737465Z"
    }
   },
   "cell_type": "code",
   "source": [
    "import random\n",
    "print(random.random())  # 输出：0 到 1 之间的随机浮点数\n"
   ],
   "id": "1cc5552612e2a34d",
   "outputs": [
    {
     "name": "stdout",
     "output_type": "stream",
     "text": [
      "0.7140670576402358\n"
     ]
    }
   ],
   "execution_count": 7
  },
  {
   "metadata": {
    "ExecuteTime": {
     "end_time": "2025-09-16T10:04:58.409147Z",
     "start_time": "2025-09-16T10:04:58.395078Z"
    }
   },
   "cell_type": "code",
   "source": [
    "import random\n",
    "colors = [\"red\", \"blue\", \"green\", \"yellow\"]\n",
    "print(random.choice(colors))  # 输出：随机选择一个颜色\n"
   ],
   "id": "f569619bbd163713",
   "outputs": [
    {
     "name": "stdout",
     "output_type": "stream",
     "text": [
      "yellow\n"
     ]
    }
   ],
   "execution_count": 8
  },
  {
   "metadata": {
    "ExecuteTime": {
     "end_time": "2025-09-16T10:05:05.636880Z",
     "start_time": "2025-09-16T10:05:05.623997Z"
    }
   },
   "cell_type": "code",
   "source": [
    "import random\n",
    "lst = [1, 2, 3, 4, 5]\n",
    "random.shuffle(lst)\n",
    "print(lst)  # 输出：元素顺序被打乱\n"
   ],
   "id": "9d80f2718935e588",
   "outputs": [
    {
     "name": "stdout",
     "output_type": "stream",
     "text": [
      "[1, 4, 3, 5, 2]\n"
     ]
    }
   ],
   "execution_count": 9
  },
  {
   "metadata": {
    "ExecuteTime": {
     "end_time": "2025-09-16T10:05:09.789185Z",
     "start_time": "2025-09-16T10:05:09.776666Z"
    }
   },
   "cell_type": "code",
   "source": [
    "import random\n",
    "lst = [1, 2, 3, 4, 5]\n",
    "print(random.sample(lst, 3))  # 输出：从列表中随机抽取 3 个元素\n"
   ],
   "id": "6306ae1f1982c004",
   "outputs": [
    {
     "name": "stdout",
     "output_type": "stream",
     "text": [
      "[3, 5, 1]\n"
     ]
    }
   ],
   "execution_count": 10
  },
  {
   "metadata": {
    "ExecuteTime": {
     "end_time": "2025-09-16T10:05:14.286917Z",
     "start_time": "2025-09-16T10:05:14.275416Z"
    }
   },
   "cell_type": "code",
   "source": [
    "import time\n",
    "print(time.time())  # 输出：当前时间的时间戳\n"
   ],
   "id": "7326271ff1de07eb",
   "outputs": [
    {
     "name": "stdout",
     "output_type": "stream",
     "text": [
      "1758017114.27844\n"
     ]
    }
   ],
   "execution_count": 11
  },
  {
   "metadata": {
    "ExecuteTime": {
     "end_time": "2025-09-16T10:05:22.671788Z",
     "start_time": "2025-09-16T10:05:19.647895Z"
    }
   },
   "cell_type": "code",
   "source": [
    "import time\n",
    "print(\"开始等待\")\n",
    "time.sleep(3)  # 程序暂停 3 秒\n",
    "print(\"等待结束\")\n"
   ],
   "id": "6b1e033873401717",
   "outputs": [
    {
     "name": "stdout",
     "output_type": "stream",
     "text": [
      "开始等待\n",
      "等待结束\n"
     ]
    }
   ],
   "execution_count": 12
  },
  {
   "metadata": {
    "ExecuteTime": {
     "end_time": "2025-09-16T10:05:28.086907Z",
     "start_time": "2025-09-16T10:05:28.073862Z"
    }
   },
   "cell_type": "code",
   "source": [
    "import time\n",
    "current_time = time.localtime()\n",
    "print(current_time)  # 输出：时间的元组形式\n"
   ],
   "id": "515c16c82e01ca96",
   "outputs": [
    {
     "name": "stdout",
     "output_type": "stream",
     "text": [
      "time.struct_time(tm_year=2025, tm_mon=9, tm_mday=16, tm_hour=18, tm_min=5, tm_sec=28, tm_wday=1, tm_yday=259, tm_isdst=0)\n"
     ]
    }
   ],
   "execution_count": 13
  },
  {
   "metadata": {
    "ExecuteTime": {
     "end_time": "2025-09-16T10:05:38.832962Z",
     "start_time": "2025-09-16T10:05:38.819414Z"
    }
   },
   "cell_type": "code",
   "source": [
    "import time\n",
    "print(time.strftime(\"%Y-%m-%d %H:%M:%S\"))  # 输出：当前时间的格式化字符串\n"
   ],
   "id": "7ce7fa37cf1e39a",
   "outputs": [
    {
     "name": "stdout",
     "output_type": "stream",
     "text": [
      "2025-09-16 18:05:38\n"
     ]
    }
   ],
   "execution_count": 14
  },
  {
   "metadata": {
    "ExecuteTime": {
     "end_time": "2025-09-16T10:05:46.616258Z",
     "start_time": "2025-09-16T10:05:46.602155Z"
    }
   },
   "cell_type": "code",
   "source": [
    "import datetime\n",
    "now = datetime.datetime.now()\n",
    "print(now)  # 输出：当前日期和时间\n"
   ],
   "id": "3172ebe3b87701a1",
   "outputs": [
    {
     "name": "stdout",
     "output_type": "stream",
     "text": [
      "2025-09-16 18:05:46.604707\n"
     ]
    }
   ],
   "execution_count": 15
  },
  {
   "metadata": {
    "ExecuteTime": {
     "end_time": "2025-09-16T10:05:51.592234Z",
     "start_time": "2025-09-16T10:05:51.578629Z"
    }
   },
   "cell_type": "code",
   "source": [
    "import datetime\n",
    "date_str = \"2025-09-15 14:30:00\"\n",
    "dt = datetime.datetime.strptime(date_str, \"%Y-%m-%d %H:%M:%S\")\n",
    "print(dt)  # 输出：2025-09-15 14:30:00\n"
   ],
   "id": "9bed696d92475143",
   "outputs": [
    {
     "name": "stdout",
     "output_type": "stream",
     "text": [
      "2025-09-15 14:30:00\n"
     ]
    }
   ],
   "execution_count": 16
  },
  {
   "metadata": {
    "ExecuteTime": {
     "end_time": "2025-09-16T10:05:58.888218Z",
     "start_time": "2025-09-16T10:05:58.873836Z"
    }
   },
   "cell_type": "code",
   "source": [
    "import datetime\n",
    "now = datetime.datetime.now()\n",
    "print(now.strftime(\"%Y-%m-%d %H:%M:%S\"))  # 输出：当前日期和时间的格式化字符串\n"
   ],
   "id": "41e908457576f19f",
   "outputs": [
    {
     "name": "stdout",
     "output_type": "stream",
     "text": [
      "2025-09-16 18:05:58\n"
     ]
    }
   ],
   "execution_count": 17
  },
  {
   "metadata": {
    "ExecuteTime": {
     "end_time": "2025-09-16T10:06:04.253599Z",
     "start_time": "2025-09-16T10:06:04.239771Z"
    }
   },
   "cell_type": "code",
   "source": [
    "import datetime\n",
    "now = datetime.datetime.now()\n",
    "delta = datetime.timedelta(days=5)\n",
    "print(now + delta)  # 输出：当前时间加 5 天\n"
   ],
   "id": "3dc5f60914d16ddc",
   "outputs": [
    {
     "name": "stdout",
     "output_type": "stream",
     "text": [
      "2025-09-21 18:06:04.242770\n"
     ]
    }
   ],
   "execution_count": 18
  },
  {
   "metadata": {
    "ExecuteTime": {
     "end_time": "2025-09-16T10:06:09.060503Z",
     "start_time": "2025-09-16T10:06:09.046715Z"
    }
   },
   "cell_type": "code",
   "source": [
    "import datetime\n",
    "today = datetime.date.today()\n",
    "print(today)  # 输出：当前日期\n"
   ],
   "id": "9b81bcf5e82ff30b",
   "outputs": [
    {
     "name": "stdout",
     "output_type": "stream",
     "text": [
      "2025-09-16\n"
     ]
    }
   ],
   "execution_count": 19
  },
  {
   "metadata": {},
   "cell_type": "code",
   "outputs": [],
   "execution_count": null,
   "source": "",
   "id": "8c4531afc68d3c85"
  }
 ],
 "metadata": {
  "kernelspec": {
   "display_name": "Python 3",
   "language": "python",
   "name": "python3"
  },
  "language_info": {
   "codemirror_mode": {
    "name": "ipython",
    "version": 2
   },
   "file_extension": ".py",
   "mimetype": "text/x-python",
   "name": "python",
   "nbconvert_exporter": "python",
   "pygments_lexer": "ipython2",
   "version": "2.7.6"
  }
 },
 "nbformat": 4,
 "nbformat_minor": 5
}
