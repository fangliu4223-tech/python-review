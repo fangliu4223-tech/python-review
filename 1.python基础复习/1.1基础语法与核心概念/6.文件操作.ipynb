{
 "cells": [
  {
   "cell_type": "code",
   "id": "initial_id",
   "metadata": {
    "collapsed": true,
    "ExecuteTime": {
     "end_time": "2025-09-16T09:32:13.371217Z",
     "start_time": "2025-09-16T09:32:13.362692Z"
    }
   },
   "source": [
    "file = open('example.txt','r')\n",
    "contents = file.read()\n",
    "print(contents)\n",
    "file.close()"
   ],
   "outputs": [
    {
     "name": "stdout",
     "output_type": "stream",
     "text": [
      "just a test\n"
     ]
    }
   ],
   "execution_count": 1
  },
  {
   "metadata": {
    "ExecuteTime": {
     "end_time": "2025-09-16T09:32:44.267194Z",
     "start_time": "2025-09-16T09:32:44.252685Z"
    }
   },
   "cell_type": "code",
   "source": [
    "file = open('example.txt', 'r')\n",
    "line = file.readline()  # 读取一行\n",
    "while line:\n",
    "    print(line, end='')  # 打印每一行\n",
    "    line = file.readline()\n",
    "file.close()\n"
   ],
   "id": "c03bbdfb4db4f872",
   "outputs": [
    {
     "name": "stdout",
     "output_type": "stream",
     "text": [
      "just a test\n",
      "continue a test"
     ]
    }
   ],
   "execution_count": 2
  },
  {
   "metadata": {
    "ExecuteTime": {
     "end_time": "2025-09-16T09:32:50.694324Z",
     "start_time": "2025-09-16T09:32:50.681328Z"
    }
   },
   "cell_type": "code",
   "source": [
    "file = open('example.txt', 'w')\n",
    "file.write(\"Hello, world!\")  # 向文件中写入字符串\n",
    "file.close()\n"
   ],
   "id": "dca927f24ebc13a4",
   "outputs": [],
   "execution_count": 3
  },
  {
   "metadata": {
    "ExecuteTime": {
     "end_time": "2025-09-16T09:33:01.122279Z",
     "start_time": "2025-09-16T09:33:01.109153Z"
    }
   },
   "cell_type": "code",
   "source": [
    "file = open('example.txt', 'a')\n",
    "file.write(\"\\nThis is an appended line.\")\n",
    "file.close()\n"
   ],
   "id": "1acd4a3de3b1ae64",
   "outputs": [],
   "execution_count": 4
  },
  {
   "metadata": {
    "ExecuteTime": {
     "end_time": "2025-09-16T09:33:09.941424Z",
     "start_time": "2025-09-16T09:33:09.927359Z"
    }
   },
   "cell_type": "code",
   "source": [
    "with open('example.txt', 'r') as file:\n",
    "    content = file.read()\n",
    "    print(content)  # 自动关闭文件\n"
   ],
   "id": "be9011f8fbdc8973",
   "outputs": [
    {
     "name": "stdout",
     "output_type": "stream",
     "text": [
      "Hello, world!\n",
      "This is an appended line.\n"
     ]
    }
   ],
   "execution_count": 5
  },
  {
   "metadata": {
    "ExecuteTime": {
     "end_time": "2025-09-16T09:33:22.983581Z",
     "start_time": "2025-09-16T09:33:22.970904Z"
    }
   },
   "cell_type": "code",
   "source": [
    "import os\n",
    "\n",
    "# 获取当前工作目录\n",
    "print(os.getcwd())\n",
    "\n",
    "# 构建一个绝对路径\n",
    "file_path = os.path.join(os.getcwd(), 'example.txt')\n",
    "print(file_path)\n"
   ],
   "id": "df4d7f1125061943",
   "outputs": [
    {
     "name": "stdout",
     "output_type": "stream",
     "text": [
      "D:\\files\\code\\pybase\\1.python基础复习\\1.1基础语法与核心概念\n",
      "D:\\files\\code\\pybase\\1.python基础复习\\1.1基础语法与核心概念\\example.txt\n"
     ]
    }
   ],
   "execution_count": 6
  },
  {
   "metadata": {
    "ExecuteTime": {
     "end_time": "2025-09-16T09:33:42.513150Z",
     "start_time": "2025-09-16T09:33:42.499430Z"
    }
   },
   "cell_type": "code",
   "source": [
    "import os\n",
    "\n",
    "if os.path.exists('example.txt'):\n",
    "    with open('example.txt', 'r') as file:\n",
    "        print(file.read())\n",
    "else:\n",
    "    print(\"文件不存在\")\n"
   ],
   "id": "66b994b74eb8b3ea",
   "outputs": [
    {
     "name": "stdout",
     "output_type": "stream",
     "text": [
      "Hello, world!\n",
      "This is an appended line.\n"
     ]
    }
   ],
   "execution_count": 7
  },
  {
   "metadata": {
    "ExecuteTime": {
     "end_time": "2025-09-16T09:33:48.557323Z",
     "start_time": "2025-09-16T09:33:48.543594Z"
    }
   },
   "cell_type": "code",
   "source": [
    "try:\n",
    "    with open('example.txt', 'r') as file:\n",
    "        print(file.read())\n",
    "except FileNotFoundError:\n",
    "    print(\"文件未找到\")\n",
    "except PermissionError:\n",
    "    print(\"没有读取文件的权限\")\n"
   ],
   "id": "402d39791f5f4c47",
   "outputs": [
    {
     "name": "stdout",
     "output_type": "stream",
     "text": [
      "Hello, world!\n",
      "This is an appended line.\n"
     ]
    }
   ],
   "execution_count": 8
  },
  {
   "metadata": {},
   "cell_type": "code",
   "outputs": [],
   "execution_count": null,
   "source": "",
   "id": "dbf8ae62aa7614f0"
  }
 ],
 "metadata": {
  "kernelspec": {
   "display_name": "Python 3",
   "language": "python",
   "name": "python3"
  },
  "language_info": {
   "codemirror_mode": {
    "name": "ipython",
    "version": 2
   },
   "file_extension": ".py",
   "mimetype": "text/x-python",
   "name": "python",
   "nbconvert_exporter": "python",
   "pygments_lexer": "ipython2",
   "version": "2.7.6"
  }
 },
 "nbformat": 4,
 "nbformat_minor": 5
}
