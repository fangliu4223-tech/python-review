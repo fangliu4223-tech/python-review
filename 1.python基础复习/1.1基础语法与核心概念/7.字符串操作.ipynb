{
 "cells": [
  {
   "cell_type": "code",
   "id": "initial_id",
   "metadata": {
    "collapsed": true,
    "ExecuteTime": {
     "end_time": "2025-09-16T09:36:15.218886Z",
     "start_time": "2025-09-16T09:36:15.200171Z"
    }
   },
   "source": [
    "str1 = 'Hello'\n",
    "str2 = \"World\"\n",
    "str3 = '''This is\n",
    "a multi-line\n",
    "string.'''\n"
   ],
   "outputs": [],
   "execution_count": 1
  },
  {
   "metadata": {
    "ExecuteTime": {
     "end_time": "2025-09-16T09:36:22.897367Z",
     "start_time": "2025-09-16T09:36:22.883165Z"
    }
   },
   "cell_type": "code",
   "source": [
    "s = \"Python\"\n",
    "print(s[0])   # 输出：P\n",
    "print(s[-1])  # 输出：n\n"
   ],
   "id": "697d8c5bcc7245e",
   "outputs": [
    {
     "name": "stdout",
     "output_type": "stream",
     "text": [
      "P\n",
      "n\n"
     ]
    }
   ],
   "execution_count": 2
  },
  {
   "metadata": {
    "ExecuteTime": {
     "end_time": "2025-09-16T09:36:27.436622Z",
     "start_time": "2025-09-16T09:36:27.422366Z"
    }
   },
   "cell_type": "code",
   "source": [
    "s = \"Python\"\n",
    "print(s[1:4])  # 输出：yth\n",
    "print(s[:3])   # 输出：Pyt\n",
    "print(s[3:])   # 输出：hon\n"
   ],
   "id": "e7824f605114e6b2",
   "outputs": [
    {
     "name": "stdout",
     "output_type": "stream",
     "text": [
      "yth\n",
      "Pyt\n",
      "hon\n"
     ]
    }
   ],
   "execution_count": 3
  },
  {
   "metadata": {
    "ExecuteTime": {
     "end_time": "2025-09-16T09:36:33.263112Z",
     "start_time": "2025-09-16T09:36:33.249595Z"
    }
   },
   "cell_type": "code",
   "source": [
    "str1 = \"Hello\"\n",
    "str2 = \"World\"\n",
    "result = str1 + \" \" + str2\n",
    "print(result)  # 输出：Hello World\n"
   ],
   "id": "2a31479aae6af8d3",
   "outputs": [
    {
     "name": "stdout",
     "output_type": "stream",
     "text": [
      "Hello World\n"
     ]
    }
   ],
   "execution_count": 4
  },
  {
   "metadata": {
    "ExecuteTime": {
     "end_time": "2025-09-16T09:36:37.273924Z",
     "start_time": "2025-09-16T09:36:37.260379Z"
    }
   },
   "cell_type": "code",
   "source": [
    "s = \"Hello\"\n",
    "print(s * 3)  # 输出：HelloHelloHello\n"
   ],
   "id": "2b7cba6c24fb9e01",
   "outputs": [
    {
     "name": "stdout",
     "output_type": "stream",
     "text": [
      "HelloHelloHello\n"
     ]
    }
   ],
   "execution_count": 5
  },
  {
   "metadata": {
    "ExecuteTime": {
     "end_time": "2025-09-16T09:36:55.605158Z",
     "start_time": "2025-09-16T09:36:55.591680Z"
    }
   },
   "cell_type": "code",
   "source": [
    "s = \"Hello\"\n",
    "print(len(s))  # 输出：5\n"
   ],
   "id": "3c0ff5e3d1ba53a7",
   "outputs": [
    {
     "name": "stdout",
     "output_type": "stream",
     "text": [
      "5\n"
     ]
    }
   ],
   "execution_count": 6
  },
  {
   "metadata": {
    "ExecuteTime": {
     "end_time": "2025-09-16T09:36:59.756465Z",
     "start_time": "2025-09-16T09:36:59.742922Z"
    }
   },
   "cell_type": "code",
   "source": [
    "s = \"Hello\"\n",
    "print(s.lower())  # 输出：hello\n",
    "print(s.upper())  # 输出：HELLO\n"
   ],
   "id": "c114d526e9b186fe",
   "outputs": [
    {
     "name": "stdout",
     "output_type": "stream",
     "text": [
      "hello\n",
      "HELLO\n"
     ]
    }
   ],
   "execution_count": 7
  },
  {
   "metadata": {
    "ExecuteTime": {
     "end_time": "2025-09-16T09:37:11.589717Z",
     "start_time": "2025-09-16T09:37:11.575023Z"
    }
   },
   "cell_type": "code",
   "source": [
    "s = \"  Hello  \"\n",
    "print(s.strip())  # 输出：Hello\n"
   ],
   "id": "52f1e19d990657b4",
   "outputs": [
    {
     "name": "stdout",
     "output_type": "stream",
     "text": [
      "Hello\n"
     ]
    }
   ],
   "execution_count": 8
  },
  {
   "metadata": {
    "ExecuteTime": {
     "end_time": "2025-09-16T09:37:21.505582Z",
     "start_time": "2025-09-16T09:37:21.491603Z"
    }
   },
   "cell_type": "code",
   "source": [
    "s = \"Hello World\"\n",
    "print(s.replace(\"World\", \"Python\"))  # 输出：Hello Python\n"
   ],
   "id": "31d6789868ecdf7a",
   "outputs": [
    {
     "name": "stdout",
     "output_type": "stream",
     "text": [
      "Hello Python\n"
     ]
    }
   ],
   "execution_count": 9
  },
  {
   "metadata": {
    "ExecuteTime": {
     "end_time": "2025-09-16T09:37:34.880992Z",
     "start_time": "2025-09-16T09:37:34.873837Z"
    }
   },
   "cell_type": "code",
   "source": [
    "s = \"Hello World\"\n",
    "print(s.split())  # 输出：['Hello', 'World']\n"
   ],
   "id": "95a9ecfb75a3460f",
   "outputs": [
    {
     "name": "stdout",
     "output_type": "stream",
     "text": [
      "['Hello', 'World']\n"
     ]
    }
   ],
   "execution_count": 10
  },
  {
   "metadata": {
    "ExecuteTime": {
     "end_time": "2025-09-16T09:37:42.727056Z",
     "start_time": "2025-09-16T09:37:42.713986Z"
    }
   },
   "cell_type": "code",
   "source": [
    "words = ['Hello', 'World']\n",
    "print(\" \".join(words))  # 输出：Hello World\n"
   ],
   "id": "33341240a2f00d38",
   "outputs": [
    {
     "name": "stdout",
     "output_type": "stream",
     "text": [
      "Hello World\n"
     ]
    }
   ],
   "execution_count": 11
  },
  {
   "metadata": {
    "ExecuteTime": {
     "end_time": "2025-09-16T09:38:33.034849Z",
     "start_time": "2025-09-16T09:38:33.022325Z"
    }
   },
   "cell_type": "code",
   "source": [
    "name = \"Alice\"\n",
    "age = 25\n",
    "print(\"Name: %s, Age: %d\" % (name, age))  # 输出：Name: Alice, Age: 25\n"
   ],
   "id": "e0c5e2448273967",
   "outputs": [
    {
     "name": "stdout",
     "output_type": "stream",
     "text": [
      "Name: Alice, Age: 25\n"
     ]
    }
   ],
   "execution_count": 12
  },
  {
   "metadata": {
    "ExecuteTime": {
     "end_time": "2025-09-16T09:38:44.723716Z",
     "start_time": "2025-09-16T09:38:44.709187Z"
    }
   },
   "cell_type": "code",
   "source": [
    "name = \"Alice\"\n",
    "age = 25\n",
    "print(\"Name: {}, Age: {}\".format(name, age))  # 输出：Name: Alice, Age: 25\n"
   ],
   "id": "85e7330840ad6417",
   "outputs": [
    {
     "name": "stdout",
     "output_type": "stream",
     "text": [
      "Name: Alice, Age: 25\n"
     ]
    }
   ],
   "execution_count": 13
  },
  {
   "metadata": {
    "ExecuteTime": {
     "end_time": "2025-09-16T09:38:50.054455Z",
     "start_time": "2025-09-16T09:38:50.040966Z"
    }
   },
   "cell_type": "code",
   "source": [
    "name = \"Alice\"\n",
    "age = 25\n",
    "print(f\"Name: {name}, Age: {age}\")  # 输出：Name: Alice, Age: 25\n"
   ],
   "id": "8724ec57b08ab8bd",
   "outputs": [
    {
     "name": "stdout",
     "output_type": "stream",
     "text": [
      "Name: Alice, Age: 25\n"
     ]
    }
   ],
   "execution_count": 14
  },
  {
   "metadata": {
    "ExecuteTime": {
     "end_time": "2025-09-16T09:38:56.793551Z",
     "start_time": "2025-09-16T09:38:56.780729Z"
    }
   },
   "cell_type": "code",
   "source": [
    "s = \"Hello World\"\n",
    "print(s.find(\"World\"))  # 输出：6\n"
   ],
   "id": "64daf1c99e79afbf",
   "outputs": [
    {
     "name": "stdout",
     "output_type": "stream",
     "text": [
      "6\n"
     ]
    }
   ],
   "execution_count": 15
  },
  {
   "metadata": {
    "ExecuteTime": {
     "end_time": "2025-09-16T09:39:02.955369Z",
     "start_time": "2025-09-16T09:39:02.941347Z"
    }
   },
   "cell_type": "code",
   "source": [
    "s = \"Hello World\"\n",
    "print(s.index(\"World\"))  # 输出：6\n"
   ],
   "id": "8a86c9ce124ae4ad",
   "outputs": [
    {
     "name": "stdout",
     "output_type": "stream",
     "text": [
      "6\n"
     ]
    }
   ],
   "execution_count": 16
  },
  {
   "metadata": {
    "ExecuteTime": {
     "end_time": "2025-09-16T09:39:22.000799Z",
     "start_time": "2025-09-16T09:39:21.994987Z"
    }
   },
   "cell_type": "code",
   "source": [
    "s = \"Hello World\"\n",
    "print(\"World\" in s)  # 输出：True\n",
    "print(\"Python\" in s)  # 输出：False\n"
   ],
   "id": "76dd46059b1a4dc2",
   "outputs": [
    {
     "name": "stdout",
     "output_type": "stream",
     "text": [
      "True\n",
      "False\n"
     ]
    }
   ],
   "execution_count": 18
  },
  {
   "metadata": {
    "ExecuteTime": {
     "end_time": "2025-09-16T09:39:36.884066Z",
     "start_time": "2025-09-16T09:39:36.870534Z"
    }
   },
   "cell_type": "code",
   "source": [
    "s = \"Hello\"\n",
    "encoded_str = s.encode(\"utf-8\")\n",
    "print(encoded_str)  # 输出：b'Hello'\n"
   ],
   "id": "8a1253872147906",
   "outputs": [
    {
     "name": "stdout",
     "output_type": "stream",
     "text": [
      "b'Hello'\n"
     ]
    }
   ],
   "execution_count": 19
  },
  {
   "metadata": {
    "ExecuteTime": {
     "end_time": "2025-09-16T09:39:48.211773Z",
     "start_time": "2025-09-16T09:39:48.197235Z"
    }
   },
   "cell_type": "code",
   "source": [
    "decoded_str = encoded_str.decode(\"utf-8\")\n",
    "print(decoded_str)  # 输出：Hello\n"
   ],
   "id": "812ef3de0b3b354",
   "outputs": [
    {
     "name": "stdout",
     "output_type": "stream",
     "text": [
      "Hello\n"
     ]
    }
   ],
   "execution_count": 20
  },
  {
   "metadata": {
    "ExecuteTime": {
     "end_time": "2025-09-16T09:40:05.055686Z",
     "start_time": "2025-09-16T09:40:05.042056Z"
    }
   },
   "cell_type": "code",
   "source": [
    "s = \"\"\"This is\n",
    "a multi-line\n",
    "string.\"\"\"\n",
    "print(s)\n"
   ],
   "id": "85ceb9a0eaeae812",
   "outputs": [
    {
     "name": "stdout",
     "output_type": "stream",
     "text": [
      "This is\n",
      "a multi-line\n",
      "string.\n"
     ]
    }
   ],
   "execution_count": 21
  },
  {
   "metadata": {
    "ExecuteTime": {
     "end_time": "2025-09-16T09:43:57.496443Z",
     "start_time": "2025-09-16T09:43:57.486838Z"
    }
   },
   "cell_type": "code",
   "source": [
    "str4 = \"qwerewq\"\n",
    "for i in range(1,len(str4)):\n",
    "    if str4[-i] == str4[i-1]:\n",
    "        continue\n",
    "    else:\n",
    "        print(\"错误\")\n",
    "        break\n",
    "else:\n",
    "    print(\"正确\")"
   ],
   "id": "4ad3b972f8afbc5d",
   "outputs": [
    {
     "name": "stdout",
     "output_type": "stream",
     "text": [
      "错误\n"
     ]
    }
   ],
   "execution_count": 27
  },
  {
   "metadata": {
    "ExecuteTime": {
     "end_time": "2025-09-16T09:47:26.291109Z",
     "start_time": "2025-09-16T09:47:18.682018Z"
    }
   },
   "cell_type": "code",
   "source": [
    "str5 = input(\"输入句子：\")\n",
    "str5_split = str5.split()\n",
    "print(\"单词个数：\",len(str5_split))"
   ],
   "id": "f79077d18fbfdcee",
   "outputs": [
    {
     "name": "stdout",
     "output_type": "stream",
     "text": [
      "4\n"
     ]
    }
   ],
   "execution_count": 29
  },
  {
   "metadata": {
    "ExecuteTime": {
     "end_time": "2025-09-16T09:50:10.711955Z",
     "start_time": "2025-09-16T09:50:10.705427Z"
    }
   },
   "cell_type": "code",
   "source": [
    "str6 = \"Object\"\n",
    "for i in range(0,len(str6)):\n",
    "    print(ord(str6[i]))"
   ],
   "id": "e741a60faf1af22a",
   "outputs": [
    {
     "name": "stdout",
     "output_type": "stream",
     "text": [
      "79\n",
      "98\n",
      "106\n",
      "101\n",
      "99\n",
      "116\n"
     ]
    }
   ],
   "execution_count": 32
  },
  {
   "metadata": {
    "ExecuteTime": {
     "end_time": "2025-09-16T09:55:36.785182Z",
     "start_time": "2025-09-16T09:55:36.771692Z"
    }
   },
   "cell_type": "code",
   "source": [
    "list = [\"hello\", \"world\",\"fucker\"]\n",
    "print(\" \".join(list))"
   ],
   "id": "b3fafa8309f9180f",
   "outputs": [
    {
     "name": "stdout",
     "output_type": "stream",
     "text": [
      "hello world fucker\n"
     ]
    }
   ],
   "execution_count": 33
  },
  {
   "metadata": {
    "ExecuteTime": {
     "end_time": "2025-09-16T09:56:38.286769Z",
     "start_time": "2025-09-16T09:56:38.268727Z"
    }
   },
   "cell_type": "code",
   "source": [
    "str7 = \"hkdsfjkash\"\n",
    "print(str7.upper())"
   ],
   "id": "8360e6c75739121e",
   "outputs": [
    {
     "name": "stdout",
     "output_type": "stream",
     "text": [
      "HKDSFJKASH\n"
     ]
    }
   ],
   "execution_count": 35
  },
  {
   "metadata": {},
   "cell_type": "code",
   "outputs": [],
   "execution_count": null,
   "source": "",
   "id": "31c1523ff304c7d3"
  }
 ],
 "metadata": {
  "kernelspec": {
   "display_name": "Python 3",
   "language": "python",
   "name": "python3"
  },
  "language_info": {
   "codemirror_mode": {
    "name": "ipython",
    "version": 2
   },
   "file_extension": ".py",
   "mimetype": "text/x-python",
   "name": "python",
   "nbconvert_exporter": "python",
   "pygments_lexer": "ipython2",
   "version": "2.7.6"
  }
 },
 "nbformat": 4,
 "nbformat_minor": 5
}
