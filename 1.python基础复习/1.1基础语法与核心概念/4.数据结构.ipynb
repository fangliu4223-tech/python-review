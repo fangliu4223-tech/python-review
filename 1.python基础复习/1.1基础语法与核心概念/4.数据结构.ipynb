{
 "cells": [
  {
   "cell_type": "code",
   "id": "initial_id",
   "metadata": {
    "collapsed": true,
    "ExecuteTime": {
     "end_time": "2025-09-16T09:08:21.554665Z",
     "start_time": "2025-09-16T09:08:21.536325Z"
    }
   },
   "source": "my_list = [1, 2, 3, 4, 5]",
   "outputs": [],
   "execution_count": 1
  },
  {
   "metadata": {
    "ExecuteTime": {
     "end_time": "2025-09-16T09:08:27.350512Z",
     "start_time": "2025-09-16T09:08:27.335986Z"
    }
   },
   "cell_type": "code",
   "source": [
    "print(my_list[0])  # 输出：1\n",
    "print(my_list[-1])  # 输出：5"
   ],
   "id": "72d2bd02417812d0",
   "outputs": [
    {
     "name": "stdout",
     "output_type": "stream",
     "text": [
      "1\n",
      "5\n"
     ]
    }
   ],
   "execution_count": 2
  },
  {
   "metadata": {
    "ExecuteTime": {
     "end_time": "2025-09-16T09:08:37.032170Z",
     "start_time": "2025-09-16T09:08:37.018969Z"
    }
   },
   "cell_type": "code",
   "source": [
    "my_list.append(6)  # 在末尾添加元素\n",
    "print(my_list)  # 输出：[1, 2, 3, 4, 5, 6]\n",
    "\n",
    "my_list.insert(2, 10)  # 在索引2的位置插入元素10\n",
    "print(my_list)  # 输出：[1, 2, 10, 3, 4, 5, 6]\n"
   ],
   "id": "b5a34327cd90fea8",
   "outputs": [
    {
     "name": "stdout",
     "output_type": "stream",
     "text": [
      "[1, 2, 3, 4, 5, 6]\n",
      "[1, 2, 10, 3, 4, 5, 6]\n"
     ]
    }
   ],
   "execution_count": 3
  },
  {
   "metadata": {
    "ExecuteTime": {
     "end_time": "2025-09-16T09:08:53.330314Z",
     "start_time": "2025-09-16T09:08:53.316614Z"
    }
   },
   "cell_type": "code",
   "source": [
    "my_list.remove(3)  # 删除第一个值为3的元素\n",
    "print(my_list)  # 输出：[1, 2, 10, 4, 5, 6]\n",
    "\n",
    "popped_value = my_list.pop()  # 删除并返回最后一个元素\n",
    "print(popped_value)  # 输出：6\n",
    "print(my_list)  # 输出：[1, 2, 10, 4, 5]\n"
   ],
   "id": "90aff88e653552ab",
   "outputs": [
    {
     "name": "stdout",
     "output_type": "stream",
     "text": [
      "[1, 2, 10, 4, 5, 6]\n",
      "6\n",
      "[1, 2, 10, 4, 5]\n"
     ]
    }
   ],
   "execution_count": 4
  },
  {
   "metadata": {
    "ExecuteTime": {
     "end_time": "2025-09-16T09:09:41.180292Z",
     "start_time": "2025-09-16T09:09:41.167102Z"
    }
   },
   "cell_type": "code",
   "source": [
    "print(my_list[1:4])  # 输出：[2, 10, 4]\n",
    "print(my_list[:3])  # 输出：[1, 2, 10]\n",
    "print(my_list[::2])  # 输出：[1, 10, 5]\n"
   ],
   "id": "d9bf16ed999de69",
   "outputs": [
    {
     "name": "stdout",
     "output_type": "stream",
     "text": [
      "[2, 10, 4]\n",
      "[1, 2, 10]\n",
      "[1, 10, 5]\n"
     ]
    }
   ],
   "execution_count": 5
  },
  {
   "metadata": {
    "ExecuteTime": {
     "end_time": "2025-09-16T09:10:50.862685Z",
     "start_time": "2025-09-16T09:10:50.849137Z"
    }
   },
   "cell_type": "code",
   "source": "my_tuple = (1, 2, 3, 4)\n",
   "id": "da064c74da1c2221",
   "outputs": [],
   "execution_count": 6
  },
  {
   "metadata": {
    "ExecuteTime": {
     "end_time": "2025-09-16T09:10:56.679655Z",
     "start_time": "2025-09-16T09:10:56.665957Z"
    }
   },
   "cell_type": "code",
   "source": [
    "print(my_tuple[0])  # 输出：1\n",
    "print(my_tuple[-1])  # 输出：4"
   ],
   "id": "cf1513161ae0d350",
   "outputs": [
    {
     "name": "stdout",
     "output_type": "stream",
     "text": [
      "1\n",
      "4\n"
     ]
    }
   ],
   "execution_count": 7
  },
  {
   "metadata": {
    "ExecuteTime": {
     "end_time": "2025-09-16T09:11:09.761407Z",
     "start_time": "2025-09-16T09:11:09.743091Z"
    }
   },
   "cell_type": "code",
   "source": "print(my_tuple[1:3])  # 输出：(2, 3)",
   "id": "e1dfdbd68bf0fb04",
   "outputs": [
    {
     "name": "stdout",
     "output_type": "stream",
     "text": [
      "(2, 3)\n"
     ]
    }
   ],
   "execution_count": 9
  },
  {
   "metadata": {
    "ExecuteTime": {
     "end_time": "2025-09-16T09:11:15.539786Z",
     "start_time": "2025-09-16T09:11:15.526263Z"
    }
   },
   "cell_type": "code",
   "source": "my_dict = {'name': 'Alice', 'age': 25, 'city': 'New York'}",
   "id": "8670d48aad536d04",
   "outputs": [],
   "execution_count": 10
  },
  {
   "metadata": {
    "ExecuteTime": {
     "end_time": "2025-09-16T09:11:21.541286Z",
     "start_time": "2025-09-16T09:11:21.527435Z"
    }
   },
   "cell_type": "code",
   "source": "print(my_dict['name'])  # 输出：Alice",
   "id": "6855ec3b4f6e2548",
   "outputs": [
    {
     "name": "stdout",
     "output_type": "stream",
     "text": [
      "Alice\n"
     ]
    }
   ],
   "execution_count": 11
  },
  {
   "metadata": {
    "ExecuteTime": {
     "end_time": "2025-09-16T09:11:34.178627Z",
     "start_time": "2025-09-16T09:11:34.165553Z"
    }
   },
   "cell_type": "code",
   "source": [
    "my_dict['age'] = 26  # 修改键 'age' 的值\n",
    "my_dict['job'] = 'Engineer'  # 添加新的键值对\n",
    "print(my_dict)\n",
    "# 输出：{'name': 'Alice', 'age': 26, 'city': 'New York', 'job': 'Engineer'}"
   ],
   "id": "66e472ec92fd0549",
   "outputs": [
    {
     "name": "stdout",
     "output_type": "stream",
     "text": [
      "{'name': 'Alice', 'age': 26, 'city': 'New York', 'job': 'Engineer'}\n"
     ]
    }
   ],
   "execution_count": 12
  },
  {
   "metadata": {
    "ExecuteTime": {
     "end_time": "2025-09-16T09:11:46.552170Z",
     "start_time": "2025-09-16T09:11:46.538538Z"
    }
   },
   "cell_type": "code",
   "source": [
    "for key, value in my_dict.items():\n",
    "    print(f\"{key}: {value}\")\n"
   ],
   "id": "d2ab4317ecb851fc",
   "outputs": [
    {
     "name": "stdout",
     "output_type": "stream",
     "text": [
      "name: Alice\n",
      "age: 26\n",
      "city: New York\n",
      "job: Engineer\n"
     ]
    }
   ],
   "execution_count": 13
  },
  {
   "metadata": {
    "ExecuteTime": {
     "end_time": "2025-09-16T09:12:20.696274Z",
     "start_time": "2025-09-16T09:12:20.682752Z"
    }
   },
   "cell_type": "code",
   "source": [
    "print('name' in my_dict)  # 输出：True\n",
    "print('country' in my_dict)  # 输出：False"
   ],
   "id": "1f468325a150c187",
   "outputs": [
    {
     "name": "stdout",
     "output_type": "stream",
     "text": [
      "True\n",
      "False\n"
     ]
    }
   ],
   "execution_count": 14
  },
  {
   "metadata": {
    "ExecuteTime": {
     "end_time": "2025-09-16T09:12:32.002629Z",
     "start_time": "2025-09-16T09:12:31.988566Z"
    }
   },
   "cell_type": "code",
   "source": "my_set = {1, 2, 3, 4}",
   "id": "d53a68dba4a9a19b",
   "outputs": [],
   "execution_count": 15
  },
  {
   "metadata": {
    "ExecuteTime": {
     "end_time": "2025-09-16T09:12:39.592984Z",
     "start_time": "2025-09-16T09:12:39.579454Z"
    }
   },
   "cell_type": "code",
   "source": [
    "my_set.add(5)  # 添加元素\n",
    "print(my_set)  # 输出：{1, 2, 3, 4, 5}\n",
    "\n",
    "my_set.remove(3)  # 删除元素3\n",
    "print(my_set)  # 输出：{1, 2, 4, 5}"
   ],
   "id": "f1c45e8f4aae2c6",
   "outputs": [
    {
     "name": "stdout",
     "output_type": "stream",
     "text": [
      "{1, 2, 3, 4, 5}\n",
      "{1, 2, 4, 5}\n"
     ]
    }
   ],
   "execution_count": 16
  },
  {
   "metadata": {
    "ExecuteTime": {
     "end_time": "2025-09-16T09:12:50.484766Z",
     "start_time": "2025-09-16T09:12:50.471646Z"
    }
   },
   "cell_type": "code",
   "source": [
    "set_a = {1, 2, 3}\n",
    "set_b = {3, 4, 5}\n",
    "\n",
    "print(set_a & set_b)  # 输出：{3}，交集\n",
    "print(set_a | set_b)  # 输出：{1, 2, 3, 4, 5}，并集\n",
    "print(set_a - set_b)  # 输出：{1, 2}，差集\n",
    "print(set_a ^ set_b)  # 输出：{1, 2, 4, 5}，对称差集"
   ],
   "id": "29246a10d5440dea",
   "outputs": [
    {
     "name": "stdout",
     "output_type": "stream",
     "text": [
      "{3}\n",
      "{1, 2, 3, 4, 5}\n",
      "{1, 2}\n",
      "{1, 2, 4, 5}\n"
     ]
    }
   ],
   "execution_count": 17
  },
  {
   "metadata": {
    "ExecuteTime": {
     "end_time": "2025-09-16T09:14:23.485116Z",
     "start_time": "2025-09-16T09:14:23.471581Z"
    }
   },
   "cell_type": "code",
   "source": [
    "list_b = [5,3,1,12,43,45]\n",
    "print(sum(list_b))"
   ],
   "id": "4a299dc94bbb845",
   "outputs": [
    {
     "name": "stdout",
     "output_type": "stream",
     "text": [
      "109\n"
     ]
    }
   ],
   "execution_count": 18
  },
  {
   "metadata": {
    "ExecuteTime": {
     "end_time": "2025-09-16T09:16:35.097086Z",
     "start_time": "2025-09-16T09:16:35.088059Z"
    }
   },
   "cell_type": "code",
   "source": [
    "dict = {\"name\":\"liu_fang\",\"age\":\"21\",\"city\":\"jinan\"}\n",
    "dict[\"city\"]=\"shanghai\"\n",
    "for key, value in dict.items():\n",
    "    print(f\"{key}: {value}\")"
   ],
   "id": "bb447595189fe662",
   "outputs": [
    {
     "name": "stdout",
     "output_type": "stream",
     "text": [
      "name: liu_fang\n",
      "age: 21\n",
      "city: shanghai\n"
     ]
    }
   ],
   "execution_count": 22
  },
  {
   "metadata": {
    "ExecuteTime": {
     "end_time": "2025-09-16T09:17:58.974792Z",
     "start_time": "2025-09-16T09:17:58.960758Z"
    }
   },
   "cell_type": "code",
   "source": [
    "list_c = [1,2,3,4,5,5,3]\n",
    "set_c = set(list_c)\n",
    "set_c"
   ],
   "id": "457e4052da9406d3",
   "outputs": [
    {
     "data": {
      "text/plain": [
       "{1, 2, 3, 4, 5}"
      ]
     },
     "execution_count": 24,
     "metadata": {},
     "output_type": "execute_result"
    }
   ],
   "execution_count": 24
  },
  {
   "metadata": {
    "ExecuteTime": {
     "end_time": "2025-09-16T09:18:37.547115Z",
     "start_time": "2025-09-16T09:18:37.532413Z"
    }
   },
   "cell_type": "code",
   "source": [
    "tuple_c = (1,2,3,4,5,5,3)\n",
    "print(tuple_c[::3])"
   ],
   "id": "52aea8f4e8d32156",
   "outputs": [
    {
     "name": "stdout",
     "output_type": "stream",
     "text": [
      "(1, 4, 3)\n"
     ]
    }
   ],
   "execution_count": 25
  },
  {
   "metadata": {},
   "cell_type": "code",
   "outputs": [],
   "execution_count": null,
   "source": "",
   "id": "408c36dc37c93bbf"
  }
 ],
 "metadata": {
  "kernelspec": {
   "display_name": "Python 3",
   "language": "python",
   "name": "python3"
  },
  "language_info": {
   "codemirror_mode": {
    "name": "ipython",
    "version": 2
   },
   "file_extension": ".py",
   "mimetype": "text/x-python",
   "name": "python",
   "nbconvert_exporter": "python",
   "pygments_lexer": "ipython2",
   "version": "2.7.6"
  }
 },
 "nbformat": 4,
 "nbformat_minor": 5
}
