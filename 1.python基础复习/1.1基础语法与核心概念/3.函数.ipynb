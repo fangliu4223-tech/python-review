{
 "cells": [
  {
   "cell_type": "code",
   "id": "initial_id",
   "metadata": {
    "collapsed": true,
    "ExecuteTime": {
     "end_time": "2025-09-16T08:47:51.909687Z",
     "start_time": "2025-09-16T08:47:51.888227Z"
    }
   },
   "source": [
    "def greet():\n",
    "    print(\"Hello\")\n",
    "greet()"
   ],
   "outputs": [
    {
     "name": "stdout",
     "output_type": "stream",
     "text": [
      "Hello\n"
     ]
    }
   ],
   "execution_count": 1
  },
  {
   "metadata": {
    "ExecuteTime": {
     "end_time": "2025-09-16T08:48:02.613047Z",
     "start_time": "2025-09-16T08:48:02.597289Z"
    }
   },
   "cell_type": "code",
   "source": [
    "def greet(name):\n",
    "    print(f\"Hello, {name}!\")\n",
    "\n",
    "greet(\"Alice\")  # 输出：Hello, Alice!\n"
   ],
   "id": "4b828c358df29e70",
   "outputs": [
    {
     "name": "stdout",
     "output_type": "stream",
     "text": [
      "Hello, Alice!\n"
     ]
    }
   ],
   "execution_count": 2
  },
  {
   "metadata": {
    "ExecuteTime": {
     "end_time": "2025-09-16T08:48:08.972045Z",
     "start_time": "2025-09-16T08:48:08.958448Z"
    }
   },
   "cell_type": "code",
   "source": [
    "def add(a, b):\n",
    "    return a + b\n",
    "\n",
    "result = add(3, 5)\n",
    "print(result)  # 输出：8\n"
   ],
   "id": "a686ed853ea62048",
   "outputs": [
    {
     "name": "stdout",
     "output_type": "stream",
     "text": [
      "8\n"
     ]
    }
   ],
   "execution_count": 3
  },
  {
   "metadata": {
    "ExecuteTime": {
     "end_time": "2025-09-16T08:48:17.057066Z",
     "start_time": "2025-09-16T08:48:17.043531Z"
    }
   },
   "cell_type": "code",
   "source": [
    "def greet(name=\"Guest\"):\n",
    "    print(f\"Hello, {name}!\")\n",
    "\n",
    "greet()        # 输出：Hello, Guest!\n",
    "greet(\"Alice\") # 输出：Hello, Alice!\n"
   ],
   "id": "7807ff8a20fad50c",
   "outputs": [
    {
     "name": "stdout",
     "output_type": "stream",
     "text": [
      "Hello, Guest!\n",
      "Hello, Alice!\n"
     ]
    }
   ],
   "execution_count": 4
  },
  {
   "metadata": {
    "ExecuteTime": {
     "end_time": "2025-09-16T08:49:21.589949Z",
     "start_time": "2025-09-16T08:49:21.576875Z"
    }
   },
   "cell_type": "code",
   "source": [
    "# 使用 *args 处理不定数量的参数\n",
    "def add(*args):\n",
    "    return sum(args)\n",
    "\n",
    "print(add(1, 2, 3))  # 输出：6\n",
    "print(add(1, 2, 3, 4, 5))  # 输出：15\n",
    "\n",
    "# 使用 **kwargs 处理不定数量的关键字参数\n",
    "def greet(**kwargs):\n",
    "    for key, value in kwargs.items():\n",
    "        print(f\"{key}: {value}\")\n",
    "\n",
    "greet(name=\"Alice\", age=25)\n",
    "# 输出：\n",
    "# name: Alice\n",
    "# age: 25\n"
   ],
   "id": "ebe3066b73afaabf",
   "outputs": [
    {
     "name": "stdout",
     "output_type": "stream",
     "text": [
      "6\n",
      "15\n",
      "name: Alice\n",
      "age: 25\n"
     ]
    }
   ],
   "execution_count": 5
  },
  {
   "metadata": {
    "ExecuteTime": {
     "end_time": "2025-09-16T08:49:58.849837Z",
     "start_time": "2025-09-16T08:49:58.835683Z"
    }
   },
   "cell_type": "code",
   "source": [
    "def factorial(n):\n",
    "    if n == 0:  # 基本情况\n",
    "        return 1\n",
    "    else:\n",
    "        return n * factorial(n - 1)\n",
    "\n",
    "print(factorial(5))  # 输出：120\n"
   ],
   "id": "5f9496b411e96c7a",
   "outputs": [
    {
     "name": "stdout",
     "output_type": "stream",
     "text": [
      "120\n"
     ]
    }
   ],
   "execution_count": 6
  },
  {
   "metadata": {
    "ExecuteTime": {
     "end_time": "2025-09-16T08:50:35.048465Z",
     "start_time": "2025-09-16T08:50:35.035268Z"
    }
   },
   "cell_type": "code",
   "source": [
    "x = 10  # 全局变量\n",
    "\n",
    "def my_func():\n",
    "    x = 5  # 局部变量\n",
    "    print(f\"局部变量x: {x}\")\n",
    "\n",
    "my_func()  # 输出：局部变量x: 5\n",
    "print(f\"全局变量x: {x}\")  # 输出：全局变量x: 10\n"
   ],
   "id": "4655ffb868867db",
   "outputs": [
    {
     "name": "stdout",
     "output_type": "stream",
     "text": [
      "局部变量x: 5\n",
      "全局变量x: 10\n"
     ]
    }
   ],
   "execution_count": 7
  },
  {
   "metadata": {
    "ExecuteTime": {
     "end_time": "2025-09-16T08:50:55.698760Z",
     "start_time": "2025-09-16T08:50:55.685212Z"
    }
   },
   "cell_type": "code",
   "source": [
    "x = 10\n",
    "\n",
    "def my_func():\n",
    "    global x\n",
    "    x = 5\n",
    "\n",
    "my_func()\n",
    "print(x)  # 输出：5\n"
   ],
   "id": "2afa15b8870fce57",
   "outputs": [
    {
     "name": "stdout",
     "output_type": "stream",
     "text": [
      "5\n"
     ]
    }
   ],
   "execution_count": 8
  },
  {
   "metadata": {
    "ExecuteTime": {
     "end_time": "2025-09-16T08:52:32.501731Z",
     "start_time": "2025-09-16T08:52:32.492198Z"
    }
   },
   "cell_type": "code",
   "source": [
    "def first(a):\n",
    "    if not a % 2:\n",
    "        print(\"o\")\n",
    "    else:\n",
    "        print(\"q\")\n",
    "\n",
    "first(0)"
   ],
   "id": "1564bea7b8373c1c",
   "outputs": [
    {
     "name": "stdout",
     "output_type": "stream",
     "text": [
      "o\n"
     ]
    }
   ],
   "execution_count": 13
  },
  {
   "metadata": {
    "ExecuteTime": {
     "end_time": "2025-09-16T08:52:58.284146Z",
     "start_time": "2025-09-16T08:52:58.271174Z"
    }
   },
   "cell_type": "code",
   "source": [
    "def second(a,b):\n",
    "    return a + b\n",
    "\n",
    "print(second(1,2))"
   ],
   "id": "13bd451671acf8d8",
   "outputs": [
    {
     "name": "stdout",
     "output_type": "stream",
     "text": [
      "3\n"
     ]
    }
   ],
   "execution_count": 14
  },
  {
   "metadata": {
    "ExecuteTime": {
     "end_time": "2025-09-16T08:54:13.648487Z",
     "start_time": "2025-09-16T08:54:13.637969Z"
    }
   },
   "cell_type": "code",
   "source": [
    "def third(*args):\n",
    "    return sum(args)/len(args)\n",
    "print(third(4,7,9,12))"
   ],
   "id": "8c2f7a91dd42b43f",
   "outputs": [
    {
     "name": "stdout",
     "output_type": "stream",
     "text": [
      "8.0\n"
     ]
    }
   ],
   "execution_count": 16
  },
  {
   "metadata": {
    "ExecuteTime": {
     "end_time": "2025-09-16T08:59:25.958145Z",
     "start_time": "2025-09-16T08:59:25.944601Z"
    }
   },
   "cell_type": "code",
   "source": [
    "def four(n):\n",
    "    if n == 0:\n",
    "        return 1\n",
    "    elif n == 1:\n",
    "        return 1\n",
    "    else:\n",
    "        return four(n-1)+four(n-2)\n",
    "four(5)"
   ],
   "id": "e7e893bfff2ff871",
   "outputs": [
    {
     "data": {
      "text/plain": [
       "8"
      ]
     },
     "execution_count": 17,
     "metadata": {},
     "output_type": "execute_result"
    }
   ],
   "execution_count": 17
  },
  {
   "metadata": {
    "ExecuteTime": {
     "end_time": "2025-09-16T09:01:35.303676Z",
     "start_time": "2025-09-16T09:01:35.290665Z"
    }
   },
   "cell_type": "code",
   "source": [
    "import math\n",
    "\n",
    "def five(*args):\n",
    "    return math.prod(args)\n",
    "\n",
    "print(five(1,2,3,4,5))"
   ],
   "id": "53d84ac4d58d1050",
   "outputs": [
    {
     "name": "stdout",
     "output_type": "stream",
     "text": [
      "120\n"
     ]
    }
   ],
   "execution_count": 18
  },
  {
   "metadata": {},
   "cell_type": "code",
   "outputs": [],
   "execution_count": null,
   "source": "",
   "id": "b9d9e08603f990b2"
  }
 ],
 "metadata": {
  "kernelspec": {
   "display_name": "Python 3",
   "language": "python",
   "name": "python3"
  },
  "language_info": {
   "codemirror_mode": {
    "name": "ipython",
    "version": 2
   },
   "file_extension": ".py",
   "mimetype": "text/x-python",
   "name": "python",
   "nbconvert_exporter": "python",
   "pygments_lexer": "ipython2",
   "version": "2.7.6"
  }
 },
 "nbformat": 4,
 "nbformat_minor": 5
}
