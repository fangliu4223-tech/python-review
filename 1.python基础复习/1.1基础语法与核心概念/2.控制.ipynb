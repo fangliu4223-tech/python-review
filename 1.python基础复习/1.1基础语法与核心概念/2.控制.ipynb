{
 "cells": [
  {
   "cell_type": "code",
   "id": "initial_id",
   "metadata": {
    "collapsed": true,
    "ExecuteTime": {
     "end_time": "2025-09-16T08:17:15.335052Z",
     "start_time": "2025-09-16T08:17:15.325486Z"
    }
   },
   "source": [
    "age = 18\n",
    "if age >= 18:\n",
    "    print(\"你是成年人\")\n",
    "elif age >= 13:\n",
    "    print(\"你是青少年\")\n",
    "else:\n",
    "    print(\"你是未成年人\")\n"
   ],
   "outputs": [
    {
     "name": "stdout",
     "output_type": "stream",
     "text": [
      "你是成年人\n"
     ]
    }
   ],
   "execution_count": 1
  },
  {
   "metadata": {
    "ExecuteTime": {
     "end_time": "2025-09-16T08:17:25.138862Z",
     "start_time": "2025-09-16T08:17:25.124832Z"
    }
   },
   "cell_type": "code",
   "source": [
    "for i in range(5):\n",
    "    print(i)\n"
   ],
   "id": "40c42be10aebda43",
   "outputs": [
    {
     "name": "stdout",
     "output_type": "stream",
     "text": [
      "0\n",
      "1\n",
      "2\n",
      "3\n",
      "4\n"
     ]
    }
   ],
   "execution_count": 2
  },
  {
   "metadata": {
    "ExecuteTime": {
     "end_time": "2025-09-16T08:17:51.944917Z",
     "start_time": "2025-09-16T08:17:51.931874Z"
    }
   },
   "cell_type": "code",
   "source": [
    "x = 0\n",
    "while x < 5:\n",
    "    print(x)\n",
    "    x += 1\n"
   ],
   "id": "949c6155107482ea",
   "outputs": [
    {
     "name": "stdout",
     "output_type": "stream",
     "text": [
      "0\n",
      "1\n",
      "2\n",
      "3\n",
      "4\n"
     ]
    }
   ],
   "execution_count": 3
  },
  {
   "metadata": {
    "ExecuteTime": {
     "end_time": "2025-09-16T08:18:11.190597Z",
     "start_time": "2025-09-16T08:18:11.177087Z"
    }
   },
   "cell_type": "code",
   "source": [
    "for i in range(5):\n",
    "    if i == 3:\n",
    "        break\n",
    "    print(i)\n"
   ],
   "id": "cffbbcb6a63f5486",
   "outputs": [
    {
     "name": "stdout",
     "output_type": "stream",
     "text": [
      "0\n",
      "1\n",
      "2\n"
     ]
    }
   ],
   "execution_count": 4
  },
  {
   "metadata": {
    "ExecuteTime": {
     "end_time": "2025-09-16T08:18:28.310037Z",
     "start_time": "2025-09-16T08:18:28.296752Z"
    }
   },
   "cell_type": "code",
   "source": [
    "for i in range(5):\n",
    "    if i == 3:\n",
    "        continue\n",
    "    print(i)\n"
   ],
   "id": "1d70bf152bdc4fbb",
   "outputs": [
    {
     "name": "stdout",
     "output_type": "stream",
     "text": [
      "0\n",
      "1\n",
      "2\n",
      "4\n"
     ]
    }
   ],
   "execution_count": 5
  },
  {
   "metadata": {
    "ExecuteTime": {
     "end_time": "2025-09-16T08:18:46.015571Z",
     "start_time": "2025-09-16T08:18:46.001562Z"
    }
   },
   "cell_type": "code",
   "source": [
    "for i in range(5):\n",
    "    if i == 3:\n",
    "        pass  # 什么都不做\n",
    "    print(i)\n"
   ],
   "id": "3255d5e373f999ac",
   "outputs": [
    {
     "name": "stdout",
     "output_type": "stream",
     "text": [
      "0\n",
      "1\n",
      "2\n",
      "3\n",
      "4\n"
     ]
    }
   ],
   "execution_count": 6
  },
  {
   "metadata": {
    "ExecuteTime": {
     "end_time": "2025-09-16T08:19:22.541040Z",
     "start_time": "2025-09-16T08:19:22.533310Z"
    }
   },
   "cell_type": "code",
   "source": [
    "x = 5\n",
    "y = 10\n",
    "if x > 0 and y > 5:\n",
    "    print(\"x 大于 0 且 y 大于 5\")\n"
   ],
   "id": "4f068bafa89aa234",
   "outputs": [
    {
     "name": "stdout",
     "output_type": "stream",
     "text": [
      "x 大于 0 且 y 大于 5\n"
     ]
    }
   ],
   "execution_count": 7
  },
  {
   "metadata": {
    "ExecuteTime": {
     "end_time": "2025-09-16T08:21:22.016016Z",
     "start_time": "2025-09-16T08:21:21.997906Z"
    }
   },
   "cell_type": "code",
   "source": [
    "a = -4\n",
    "if a > 0 :\n",
    "    print(\"正数\")\n",
    "elif a < 0 :\n",
    "    print(\"负数\")\n",
    "else:\n",
    "    print(\"零数\")"
   ],
   "id": "ab2b1218432a08ff",
   "outputs": [
    {
     "name": "stdout",
     "output_type": "stream",
     "text": [
      "负数\n"
     ]
    }
   ],
   "execution_count": 9
  },
  {
   "metadata": {
    "ExecuteTime": {
     "end_time": "2025-09-16T08:23:47.908040Z",
     "start_time": "2025-09-16T08:23:47.897442Z"
    }
   },
   "cell_type": "code",
   "source": [
    "for i in range(1,11):\n",
    "    if not i % 2 :\n",
    "        print(i)"
   ],
   "id": "f8e3da670c1e150d",
   "outputs": [
    {
     "name": "stdout",
     "output_type": "stream",
     "text": [
      "2\n",
      "4\n",
      "6\n",
      "8\n",
      "10\n"
     ]
    }
   ],
   "execution_count": 15
  },
  {
   "metadata": {
    "ExecuteTime": {
     "end_time": "2025-09-16T08:29:15.991039Z",
     "start_time": "2025-09-16T08:29:15.979284Z"
    }
   },
   "cell_type": "code",
   "source": [
    "k = 0\n",
    "for i in range (1,101):\n",
    "    k += i\n",
    "print(k)"
   ],
   "id": "b15a6eb885684fcc",
   "outputs": [
    {
     "name": "stdout",
     "output_type": "stream",
     "text": [
      "5050\n"
     ]
    }
   ],
   "execution_count": 27
  },
  {
   "metadata": {
    "ExecuteTime": {
     "end_time": "2025-09-16T08:43:00.236274Z",
     "start_time": "2025-09-16T08:43:00.224020Z"
    }
   },
   "cell_type": "code",
   "source": [
    "j = 4\n",
    "for i  in range(2,j):\n",
    "    if j % i == 0:\n",
    "        print(\"不是质数\")\n",
    "        break\n",
    "else:\n",
    "    print(\"是质数\")\n",
    "\n"
   ],
   "id": "38c19542f6c56add",
   "outputs": [
    {
     "name": "stdout",
     "output_type": "stream",
     "text": [
      "不是质数\n"
     ]
    }
   ],
   "execution_count": 60
  },
  {
   "metadata": {
    "ExecuteTime": {
     "end_time": "2025-09-16T08:39:29.875161Z",
     "start_time": "2025-09-16T08:39:29.865649Z"
    }
   },
   "cell_type": "code",
   "source": [
    "for i in range(1,11):\n",
    "    if i == 3 or i == 7:\n",
    "        continue\n",
    "    else:\n",
    "        print(i)\n"
   ],
   "id": "eee495edf2ba1deb",
   "outputs": [
    {
     "name": "stdout",
     "output_type": "stream",
     "text": [
      "1\n",
      "2\n",
      "4\n",
      "5\n",
      "6\n",
      "8\n",
      "9\n",
      "10\n"
     ]
    }
   ],
   "execution_count": 47
  },
  {
   "metadata": {
    "ExecuteTime": {
     "end_time": "2025-09-16T08:45:59.380508Z",
     "start_time": "2025-09-16T08:45:59.371146Z"
    }
   },
   "cell_type": "code",
   "source": [
    "numbers = [1, 2, 3, 4, 5]\n",
    "for num in numbers:\n",
    "    if num == 1:\n",
    "        numbers.remove(num)  # 删除元素\n",
    "    print(num)"
   ],
   "id": "7b568e2166aa8364",
   "outputs": [
    {
     "name": "stdout",
     "output_type": "stream",
     "text": [
      "1\n",
      "2\n",
      "3\n",
      "4\n",
      "5\n"
     ]
    }
   ],
   "execution_count": 73
  },
  {
   "metadata": {},
   "cell_type": "code",
   "outputs": [],
   "execution_count": null,
   "source": "",
   "id": "450b46bd34c12bb7"
  }
 ],
 "metadata": {
  "kernelspec": {
   "display_name": "Python 3",
   "language": "python",
   "name": "python3"
  },
  "language_info": {
   "codemirror_mode": {
    "name": "ipython",
    "version": 2
   },
   "file_extension": ".py",
   "mimetype": "text/x-python",
   "name": "python",
   "nbconvert_exporter": "python",
   "pygments_lexer": "ipython2",
   "version": "2.7.6"
  }
 },
 "nbformat": 4,
 "nbformat_minor": 5
}
