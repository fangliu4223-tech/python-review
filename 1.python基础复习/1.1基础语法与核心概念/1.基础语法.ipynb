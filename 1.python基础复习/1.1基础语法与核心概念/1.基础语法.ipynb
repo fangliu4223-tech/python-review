{
 "cells": [
  {
   "cell_type": "code",
   "id": "initial_id",
   "metadata": {
    "collapsed": true,
    "ExecuteTime": {
     "end_time": "2025-09-16T07:49:37.991518Z",
     "start_time": "2025-09-16T07:49:37.982046Z"
    }
   },
   "source": "print(\"hello world\")",
   "outputs": [
    {
     "name": "stdout",
     "output_type": "stream",
     "text": [
      "hello world\n"
     ]
    }
   ],
   "execution_count": 1
  },
  {
   "metadata": {
    "ExecuteTime": {
     "end_time": "2025-09-16T08:03:22.413536Z",
     "start_time": "2025-09-16T08:03:22.399999Z"
    }
   },
   "cell_type": "code",
   "source": [
    "x = 5\n",
    "y = 3.14\n",
    "name = \"Alice\"\n",
    "is_active = True\n",
    "print(x,y,name,is_active)"
   ],
   "id": "44d538bdda0d02c6",
   "outputs": [
    {
     "name": "stdout",
     "output_type": "stream",
     "text": [
      "5 3.14 Alice True\n"
     ]
    }
   ],
   "execution_count": 3
  },
  {
   "metadata": {
    "ExecuteTime": {
     "end_time": "2025-09-16T08:03:23.480774Z",
     "start_time": "2025-09-16T08:03:23.466628Z"
    }
   },
   "cell_type": "code",
   "source": [
    "x_1 = \"123\"\n",
    "y_1 = int(x)\n",
    "z_1 = float(x)\n",
    "print(x_1, y_1, z_1)"
   ],
   "id": "128285ba162f7e3a",
   "outputs": [
    {
     "name": "stdout",
     "output_type": "stream",
     "text": [
      "123 5 5.0\n"
     ]
    }
   ],
   "execution_count": 4
  },
  {
   "metadata": {
    "ExecuteTime": {
     "end_time": "2025-09-16T08:03:36.688866Z",
     "start_time": "2025-09-16T08:03:36.674807Z"
    }
   },
   "cell_type": "code",
   "source": [
    "a = 10\n",
    "b = 3\n",
    "print(a + b)  # 加法\n",
    "print(a - b)  # 减法\n",
    "print(a * b)  # 乘法\n",
    "print(a / b)  # 除法\n",
    "print(a // b) # 整除\n",
    "print(a % b)  # 取余\n",
    "print(a ** b) # 幂运算"
   ],
   "id": "8b5de7cfd4972c45",
   "outputs": [
    {
     "name": "stdout",
     "output_type": "stream",
     "text": [
      "13\n",
      "7\n",
      "30\n",
      "3.3333333333333335\n",
      "3\n",
      "1\n",
      "1000\n"
     ]
    }
   ],
   "execution_count": 5
  },
  {
   "metadata": {
    "ExecuteTime": {
     "end_time": "2025-09-16T08:06:39.075401Z",
     "start_time": "2025-09-16T08:06:39.062177Z"
    }
   },
   "cell_type": "code",
   "source": [
    "a = 10\n",
    "b = 5\n",
    "print(a == b)  # 相等\n",
    "print(a != b)  # 不等\n",
    "print(a > b)   # 大于\n",
    "print(a < b)   # 小于\n"
   ],
   "id": "c317ec3d7252627f",
   "outputs": [
    {
     "name": "stdout",
     "output_type": "stream",
     "text": [
      "False\n",
      "True\n",
      "True\n",
      "False\n"
     ]
    }
   ],
   "execution_count": 6
  },
  {
   "metadata": {
    "ExecuteTime": {
     "end_time": "2025-09-16T08:06:45.308685Z",
     "start_time": "2025-09-16T08:06:45.295123Z"
    }
   },
   "cell_type": "code",
   "source": [
    "a = True\n",
    "b = False\n",
    "print(a and b)  # 与运算\n",
    "print(a or b)   # 或运算\n",
    "print(not a)    # 非运算"
   ],
   "id": "1264fab137d95f33",
   "outputs": [
    {
     "name": "stdout",
     "output_type": "stream",
     "text": [
      "False\n",
      "True\n",
      "False\n"
     ]
    }
   ],
   "execution_count": 7
  },
  {
   "metadata": {
    "ExecuteTime": {
     "end_time": "2025-09-16T08:07:46.188940Z",
     "start_time": "2025-09-16T08:07:46.174847Z"
    }
   },
   "cell_type": "code",
   "source": [
    "age = 21\n",
    "print(age)"
   ],
   "id": "fc476ed593863cf5",
   "outputs": [
    {
     "name": "stdout",
     "output_type": "stream",
     "text": [
      "21\n"
     ]
    }
   ],
   "execution_count": 8
  },
  {
   "metadata": {
    "ExecuteTime": {
     "end_time": "2025-09-16T08:08:30.071474Z",
     "start_time": "2025-09-16T08:08:30.058764Z"
    }
   },
   "cell_type": "code",
   "source": [
    "length, width = 1.72, 75\n",
    "print(length * width)"
   ],
   "id": "f059b42a3baa997b",
   "outputs": [
    {
     "name": "stdout",
     "output_type": "stream",
     "text": [
      "129.0\n"
     ]
    }
   ],
   "execution_count": 9
  },
  {
   "metadata": {
    "ExecuteTime": {
     "end_time": "2025-09-16T08:09:11.429324Z",
     "start_time": "2025-09-16T08:09:11.422623Z"
    }
   },
   "cell_type": "code",
   "source": [
    "name = \"liu_fang\"\n",
    "print(\"Hello,\",name)"
   ],
   "id": "5178a5bbfb9c6c0",
   "outputs": [
    {
     "name": "stdout",
     "output_type": "stream",
     "text": [
      "Hello, liu_fang\n"
     ]
    }
   ],
   "execution_count": 11
  },
  {
   "metadata": {
    "ExecuteTime": {
     "end_time": "2025-09-16T08:09:58.775231Z",
     "start_time": "2025-09-16T08:09:58.767708Z"
    }
   },
   "cell_type": "code",
   "source": [
    "a = 10\n",
    "print(type(float(a)),float(a))"
   ],
   "id": "4256913f41913c48",
   "outputs": [
    {
     "name": "stdout",
     "output_type": "stream",
     "text": [
      "<class 'float'> 10.0\n"
     ]
    }
   ],
   "execution_count": 14
  },
  {
   "metadata": {
    "ExecuteTime": {
     "end_time": "2025-09-16T08:12:00.034808Z",
     "start_time": "2025-09-16T08:12:00.025300Z"
    }
   },
   "cell_type": "code",
   "source": [
    "a = 0\n",
    "if not a % 2:\n",
    "    print(\"偶数\")\n",
    "else:\n",
    "    print(\"奇数\")"
   ],
   "id": "c67eb4b6e50f909e",
   "outputs": [
    {
     "name": "stdout",
     "output_type": "stream",
     "text": [
      "偶数\n"
     ]
    }
   ],
   "execution_count": 20
  },
  {
   "metadata": {},
   "cell_type": "code",
   "outputs": [],
   "execution_count": null,
   "source": "",
   "id": "2cc75dab1ef33814"
  }
 ],
 "metadata": {
  "kernelspec": {
   "display_name": "Python 3",
   "language": "python",
   "name": "python3"
  },
  "language_info": {
   "codemirror_mode": {
    "name": "ipython",
    "version": 2
   },
   "file_extension": ".py",
   "mimetype": "text/x-python",
   "name": "python",
   "nbconvert_exporter": "python",
   "pygments_lexer": "ipython2",
   "version": "2.7.6"
  }
 },
 "nbformat": 4,
 "nbformat_minor": 5
}
