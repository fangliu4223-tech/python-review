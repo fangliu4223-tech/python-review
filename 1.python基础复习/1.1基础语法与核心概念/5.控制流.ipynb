{
 "cells": [
  {
   "cell_type": "code",
   "id": "initial_id",
   "metadata": {
    "collapsed": true,
    "ExecuteTime": {
     "end_time": "2025-09-16T09:21:43.984595Z",
     "start_time": "2025-09-16T09:21:43.975319Z"
    }
   },
   "source": [
    "x = 5\n",
    "if x > 10:\n",
    "    print(\"大于10\")\n",
    "elif x == 5:\n",
    "    print(\"等于5\")\n",
    "else:\n",
    "    print(\"小于5\")\n"
   ],
   "outputs": [
    {
     "name": "stdout",
     "output_type": "stream",
     "text": [
      "等于5\n"
     ]
    }
   ],
   "execution_count": 1
  },
  {
   "metadata": {
    "ExecuteTime": {
     "end_time": "2025-09-16T09:21:47.147697Z",
     "start_time": "2025-09-16T09:21:47.134261Z"
    }
   },
   "cell_type": "code",
   "source": [
    "for i in range(1, 6):  # 从1到5\n",
    "    print(i)\n"
   ],
   "id": "46731c23f905302f",
   "outputs": [
    {
     "name": "stdout",
     "output_type": "stream",
     "text": [
      "1\n",
      "2\n",
      "3\n",
      "4\n",
      "5\n"
     ]
    }
   ],
   "execution_count": 2
  },
  {
   "metadata": {
    "ExecuteTime": {
     "end_time": "2025-09-16T09:21:51.327677Z",
     "start_time": "2025-09-16T09:21:51.314145Z"
    }
   },
   "cell_type": "code",
   "source": [
    "x = 0\n",
    "while x < 5:\n",
    "    print(x)\n",
    "    x += 1\n"
   ],
   "id": "2ee190b939482a5",
   "outputs": [
    {
     "name": "stdout",
     "output_type": "stream",
     "text": [
      "0\n",
      "1\n",
      "2\n",
      "3\n",
      "4\n"
     ]
    }
   ],
   "execution_count": 3
  },
  {
   "metadata": {
    "ExecuteTime": {
     "end_time": "2025-09-16T09:21:57.137774Z",
     "start_time": "2025-09-16T09:21:57.126218Z"
    }
   },
   "cell_type": "code",
   "source": [
    "for i in range(5):\n",
    "    if i == 3:\n",
    "        break\n",
    "    print(i)\n"
   ],
   "id": "4fa6a6e7e3c32164",
   "outputs": [
    {
     "name": "stdout",
     "output_type": "stream",
     "text": [
      "0\n",
      "1\n",
      "2\n"
     ]
    }
   ],
   "execution_count": 4
  },
  {
   "metadata": {
    "ExecuteTime": {
     "end_time": "2025-09-16T09:22:02.322225Z",
     "start_time": "2025-09-16T09:22:02.309604Z"
    }
   },
   "cell_type": "code",
   "source": [
    "for i in range(5):\n",
    "    if i == 3:\n",
    "        continue\n",
    "    print(i)\n"
   ],
   "id": "b74299bfcb145d1c",
   "outputs": [
    {
     "name": "stdout",
     "output_type": "stream",
     "text": [
      "0\n",
      "1\n",
      "2\n",
      "4\n"
     ]
    }
   ],
   "execution_count": 5
  },
  {
   "metadata": {
    "ExecuteTime": {
     "end_time": "2025-09-16T09:22:07.634514Z",
     "start_time": "2025-09-16T09:22:07.621004Z"
    }
   },
   "cell_type": "code",
   "source": [
    "for i in range(5):\n",
    "    if i == 3:\n",
    "        pass  # 什么也不做\n",
    "    print(i)\n"
   ],
   "id": "dae9595ad873a47e",
   "outputs": [
    {
     "name": "stdout",
     "output_type": "stream",
     "text": [
      "0\n",
      "1\n",
      "2\n",
      "3\n",
      "4\n"
     ]
    }
   ],
   "execution_count": 6
  },
  {
   "metadata": {
    "ExecuteTime": {
     "end_time": "2025-09-16T09:22:23.527992Z",
     "start_time": "2025-09-16T09:22:23.515031Z"
    }
   },
   "cell_type": "code",
   "source": [
    "try:\n",
    "    x = 1 / 0  # 这会抛出 ZeroDivisionError 异常\n",
    "except ZeroDivisionError:\n",
    "    print(\"不能除以零！\")\n",
    "finally:\n",
    "    print(\"这段代码总会执行\")\n"
   ],
   "id": "2d011ca779e2f7d7",
   "outputs": [
    {
     "name": "stdout",
     "output_type": "stream",
     "text": [
      "不能除以零！\n",
      "这段代码总会执行\n"
     ]
    }
   ],
   "execution_count": 7
  },
  {
   "metadata": {
    "ExecuteTime": {
     "end_time": "2025-09-16T09:22:38.780445Z",
     "start_time": "2025-09-16T09:22:38.767223Z"
    }
   },
   "cell_type": "code",
   "source": [
    "try:\n",
    "    x = int(\"abc\")  # 会抛出 ValueError 异常\n",
    "except (ValueError, TypeError) as e:\n",
    "    print(f\"发生了错误：{e}\")\n"
   ],
   "id": "c01f59acc5c4d851",
   "outputs": [
    {
     "name": "stdout",
     "output_type": "stream",
     "text": [
      "发生了错误：invalid literal for int() with base 10: 'abc'\n"
     ]
    }
   ],
   "execution_count": 8
  },
  {
   "metadata": {
    "ExecuteTime": {
     "end_time": "2025-09-16T09:22:58.464634Z",
     "start_time": "2025-09-16T09:22:58.450673Z"
    }
   },
   "cell_type": "code",
   "source": [
    "try:\n",
    "    x = 10 / 2  # 正常执行，没有异常\n",
    "except ZeroDivisionError:\n",
    "    print(\"除以零错误\")\n",
    "else:\n",
    "    print(\"没有异常，执行了 else 块\")\n",
    "finally:\n",
    "    print(\"这段代码总是执行\")\n"
   ],
   "id": "f1b9ea0147875141",
   "outputs": [
    {
     "name": "stdout",
     "output_type": "stream",
     "text": [
      "没有异常，执行了 else 块\n",
      "这段代码总是执行\n"
     ]
    }
   ],
   "execution_count": 9
  },
  {
   "metadata": {
    "ExecuteTime": {
     "end_time": "2025-09-16T09:24:32.189785Z",
     "start_time": "2025-09-16T09:24:32.176335Z"
    }
   },
   "cell_type": "code",
   "source": [
    "try:\n",
    "    x=1/0\n",
    "except ZeroDivisionError:\n",
    "    print(\"不能除以0\")\n",
    "finally:\n",
    "    print(\"总是输出\")\n"
   ],
   "id": "9609959c9aa9f469",
   "outputs": [
    {
     "name": "stdout",
     "output_type": "stream",
     "text": [
      "不能除以0\n",
      "总是输出\n"
     ]
    }
   ],
   "execution_count": 10
  },
  {
   "metadata": {
    "ExecuteTime": {
     "end_time": "2025-09-16T09:27:36.946764Z",
     "start_time": "2025-09-16T09:27:36.938192Z"
    }
   },
   "cell_type": "code",
   "source": [
    "i = 1\n",
    "while i <50:\n",
    "   if i % 3 == 0:\n",
    "       print(i)\n",
    "       i += 1\n",
    "   else:\n",
    "       i += 1\n",
    "       continue"
   ],
   "id": "e7aadfe79fcc8f97",
   "outputs": [
    {
     "name": "stdout",
     "output_type": "stream",
     "text": [
      "3\n",
      "6\n",
      "9\n",
      "12\n",
      "15\n",
      "18\n",
      "21\n",
      "24\n",
      "27\n",
      "30\n",
      "33\n",
      "36\n",
      "39\n",
      "42\n",
      "45\n",
      "48\n"
     ]
    }
   ],
   "execution_count": 13
  },
  {
   "metadata": {},
   "cell_type": "code",
   "outputs": [],
   "execution_count": null,
   "source": "",
   "id": "e9c383ab1bbc0275"
  }
 ],
 "metadata": {
  "kernelspec": {
   "display_name": "Python 3",
   "language": "python",
   "name": "python3"
  },
  "language_info": {
   "codemirror_mode": {
    "name": "ipython",
    "version": 2
   },
   "file_extension": ".py",
   "mimetype": "text/x-python",
   "name": "python",
   "nbconvert_exporter": "python",
   "pygments_lexer": "ipython2",
   "version": "2.7.6"
  }
 },
 "nbformat": 4,
 "nbformat_minor": 5
}
