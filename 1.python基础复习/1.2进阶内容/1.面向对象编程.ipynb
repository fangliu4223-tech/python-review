{
 "cells": [
  {
   "cell_type": "code",
   "id": "initial_id",
   "metadata": {
    "collapsed": true,
    "ExecuteTime": {
     "end_time": "2025-09-16T10:20:58.252979Z",
     "start_time": "2025-09-16T10:20:58.243298Z"
    }
   },
   "source": [
    "# 定义一个类\n",
    "class Person:\n",
    "    # 类的属性\n",
    "    name = \"\"  # 姓名\n",
    "    age = 0     # 年龄\n",
    "\n",
    "# 创建类的对象\n",
    "person1 = Person()  # 创建对象 person1\n",
    "person1.name = \"Alice\"\n",
    "person1.age = 25\n",
    "\n",
    "person2 = Person()  # 创建对象 person2\n",
    "person2.name = \"Bob\"\n",
    "person2.age = 30\n",
    "\n",
    "# 访问对象的属性\n",
    "print(f\"Person 1: {person1.name}, {person1.age}\")  # 输出: Person 1: Alice, 25\n",
    "print(f\"Person 2: {person2.name}, {person2.age}\")  # 输出: Person 2: Bob, 30\n"
   ],
   "outputs": [
    {
     "name": "stdout",
     "output_type": "stream",
     "text": [
      "Person 1: Alice, 25\n",
      "Person 2: Bob, 30\n"
     ]
    }
   ],
   "execution_count": 1
  },
  {
   "metadata": {
    "ExecuteTime": {
     "end_time": "2025-09-16T10:21:32.751363Z",
     "start_time": "2025-09-16T10:21:32.737054Z"
    }
   },
   "cell_type": "code",
   "source": [
    "# 使用构造方法初始化对象的属性\n",
    "class Person:\n",
    "    def __init__(self, name, age):\n",
    "        self.name = name  # 初始化姓名\n",
    "        self.age = age    # 初始化年龄\n",
    "\n",
    "# 创建类的对象并传入初始值\n",
    "person1 = Person(\"Alice\", 25)\n",
    "person2 = Person(\"Bob\", 30)\n",
    "\n",
    "# 访问对象的属性\n",
    "print(f\"Person 1: {person1.name}, {person1.age}\")  # 输出: Person 1: Alice, 25\n",
    "print(f\"Person 2: {person2.name}, {person2.age}\")  # 输出: Person 2: Bob, 30"
   ],
   "id": "8f251ef918d1bc48",
   "outputs": [
    {
     "name": "stdout",
     "output_type": "stream",
     "text": [
      "Person 1: Alice, 25\n",
      "Person 2: Bob, 30\n"
     ]
    }
   ],
   "execution_count": 2
  },
  {
   "metadata": {
    "ExecuteTime": {
     "end_time": "2025-09-16T10:22:45.319666Z",
     "start_time": "2025-09-16T10:22:45.305594Z"
    }
   },
   "cell_type": "code",
   "source": [
    "# 定义一个父类\n",
    "class Person:\n",
    "    def __init__(self, name, age):\n",
    "        self.name = name\n",
    "        self.age = age\n",
    "\n",
    "    def introduce(self):\n",
    "        return f\"My name is {self.name} and I am {self.age} years old.\"\n",
    "\n",
    "# 定义一个子类，继承 Person 类\n",
    "class Student(Person):\n",
    "    def __init__(self, name, age, grade):\n",
    "        super().__init__(name, age)  # 调用父类的构造方法\n",
    "        self.grade = grade\n",
    "\n",
    "    # 重写 introduce 方法\n",
    "    def introduce(self):\n",
    "        return f\"My name is {self.name}, I am {self.age} years old, and my grade is {self.grade}.\"\n",
    "\n",
    "# 创建对象\n",
    "student1 = Student(\"Alice\", 20, \"A\")\n",
    "student2 = Student(\"Bob\", 22, \"B\")\n",
    "\n",
    "# 调用子类中的重写方法\n",
    "print(student1.introduce())  # 输出: My name is Alice, I am 20 years old, and my grade is A.\n",
    "print(student2.introduce())  # 输出: My name is Bob, I am 22 years old, and my grade is B.\n"
   ],
   "id": "8515c9043d1af6b",
   "outputs": [
    {
     "name": "stdout",
     "output_type": "stream",
     "text": [
      "My name is Alice, I am 20 years old, and my grade is A.\n",
      "My name is Bob, I am 22 years old, and my grade is B.\n"
     ]
    }
   ],
   "execution_count": 3
  },
  {
   "metadata": {
    "ExecuteTime": {
     "end_time": "2025-09-16T10:25:15.745503Z",
     "start_time": "2025-09-16T10:25:15.731994Z"
    }
   },
   "cell_type": "code",
   "source": [
    "# 定义一个类，包含实例方法和静态方法\n",
    "class Person:\n",
    "    def __init__(self, name, age):\n",
    "        self.name = name\n",
    "        self.age = age\n",
    "\n",
    "    # 实例方法\n",
    "    def introduce(self):\n",
    "        return f\"My name is {self.name} and I am {self.age} years old.\"\n",
    "\n",
    "    # 静态方法\n",
    "    @staticmethod\n",
    "    def greeting():\n",
    "        return \"Hello!\"\n",
    "\n",
    "# 创建对象\n",
    "person1 = Person(\"Alice\", 25)\n",
    "\n",
    "# 通过实例调用实例方法\n",
    "print(person1.introduce())  # 输出: My name is Alice and I am 25 years old.\n",
    "\n",
    "# 通过类调用静态方法\n",
    "print(Person.greeting())  # 输出: Hello!\n",
    "# 定义一个类，包含类属性和实例属性\n",
    "class Person:\n",
    "    species = \"Homo sapiens\"  # 类属性\n",
    "\n",
    "    def __init__(self, name, age):\n",
    "        self.name = name  # 实例属性\n",
    "        self.age = age    # 实例属性\n",
    "\n",
    "# 创建对象\n",
    "person1 = Person(\"Alice\", 25)\n",
    "person2 = Person(\"Bob\", 30)\n",
    "\n",
    "# 访问类属性\n",
    "print(f\"Person 1 species: {person1.species}\")  # 输出: Person 1 species: Homo sapiens\n",
    "print(f\"Person 2 species: {person2.species}\")  # 输出: Person 2 species: Homo sapiens\n",
    "\n",
    "# 访问实例属性\n",
    "print(f\"Person 1 name: {person1.name}, age: {person1.age}\")  # 输出: Person 1 name: Alice, age: 25\n"
   ],
   "id": "b76072958de76f4b",
   "outputs": [
    {
     "name": "stdout",
     "output_type": "stream",
     "text": [
      "My name is Alice and I am 25 years old.\n",
      "Hello!\n",
      "Person 1 species: Homo sapiens\n",
      "Person 2 species: Homo sapiens\n",
      "Person 1 name: Alice, age: 25\n"
     ]
    }
   ],
   "execution_count": 4
  },
  {
   "metadata": {
    "ExecuteTime": {
     "end_time": "2025-09-16T10:25:21.169870Z",
     "start_time": "2025-09-16T10:25:21.156337Z"
    }
   },
   "cell_type": "code",
   "source": [
    "# 定义一个类，包含类属性和实例属性\n",
    "class Person:\n",
    "    species = \"Homo sapiens\"  # 类属性\n",
    "\n",
    "    def __init__(self, name, age):\n",
    "        self.name = name  # 实例属性\n",
    "        self.age = age    # 实例属性\n",
    "\n",
    "# 创建对象\n",
    "person1 = Person(\"Alice\", 25)\n",
    "person2 = Person(\"Bob\", 30)\n",
    "\n",
    "# 访问类属性\n",
    "print(f\"Person 1 species: {person1.species}\")  # 输出: Person 1 species: Homo sapiens\n",
    "print(f\"Person 2 species: {person2.species}\")  # 输出: Person 2 species: Homo sapiens\n",
    "\n",
    "# 访问实例属性\n",
    "print(f\"Person 1 name: {person1.name}, age: {person1.age}\")  # 输出: Person 1 name: Alice, age: 25\n"
   ],
   "id": "aea2d9fced731f3f",
   "outputs": [
    {
     "name": "stdout",
     "output_type": "stream",
     "text": [
      "Person 1 species: Homo sapiens\n",
      "Person 2 species: Homo sapiens\n",
      "Person 1 name: Alice, age: 25\n"
     ]
    }
   ],
   "execution_count": 5
  },
  {
   "metadata": {
    "ExecuteTime": {
     "end_time": "2025-09-16T10:26:20.644407Z",
     "start_time": "2025-09-16T10:26:20.631908Z"
    }
   },
   "cell_type": "code",
   "source": [
    "# 定义一个类，使用魔术方法\n",
    "class Point:\n",
    "    def __init__(self, x, y):\n",
    "        self.x = x\n",
    "        self.y = y\n",
    "\n",
    "    # 实现加法操作\n",
    "    def __add__(self, other):\n",
    "        return Point(self.x + other.x, self.y + other.y)\n",
    "\n",
    "    # 实现 __str__ 方法\n",
    "    def __str__(self):\n",
    "        return f\"Point({self.x}, {self.y})\"\n",
    "\n",
    "    # 实现 __repr__ 方法\n",
    "    def __repr__(self):\n",
    "        return f\"Point({self.x}, {self.y})\"\n",
    "\n",
    "# 创建对象\n",
    "point1 = Point(2, 3)\n",
    "point2 = Point(4, 5)\n",
    "\n",
    "# 使用 __str__ 输出对象\n",
    "print(point1)  # 输出: Point(2, 3)\n",
    "\n",
    "# 使用 __add__ 进行加法操作\n",
    "point3 = point1 + point2\n",
    "print(point3)  # 输出: Point(6, 8)\n"
   ],
   "id": "1ba48e3f276a2bb6",
   "outputs": [
    {
     "name": "stdout",
     "output_type": "stream",
     "text": [
      "Point(2, 3)\n",
      "Point(6, 8)\n"
     ]
    }
   ],
   "execution_count": 6
  },
  {
   "metadata": {
    "ExecuteTime": {
     "end_time": "2025-09-16T10:37:58.516580Z",
     "start_time": "2025-09-16T10:37:58.510704Z"
    }
   },
   "cell_type": "code",
   "source": [
    "class Person:\n",
    "    species = \"Homo sapiens\"\n",
    "    def __init__(self, name, age):\n",
    "        self.name = name\n",
    "        self.age = age\n",
    "\n",
    "\n",
    "\n",
    "    @staticmethod\n",
    "    def greeting():\n",
    "        print(\"Hello!\")\n",
    "\n",
    "    def introduce(self):\n",
    "        return f\"My name is {self.name} and I am {self.age} years old.\"\n",
    "\n",
    "Person1 = Person(\"Alice\", 25)\n",
    "print(Person1.name, Person1.age)\n",
    "\n",
    "class Student(Person):\n",
    "    def __init__(self, name, age, grade):\n",
    "        super().__init__(name, age)\n",
    "        self.grade = grade\n",
    "\n",
    "    def __str__(self):\n",
    "        return f\"Student({self.name}, {self.age}, {self.grade})\"\n",
    "\n",
    "Student1 = Student(\"Alice\", 25, 25)\n",
    "\n",
    "print(Student1.__str__())\n",
    "print(Student1.greeting())\n",
    "print(Student1.introduce())\n",
    "print(Student1.species)\n"
   ],
   "id": "745c32355fbd12a6",
   "outputs": [
    {
     "name": "stdout",
     "output_type": "stream",
     "text": [
      "Alice 25\n",
      "Student(Alice, 25, 25)\n",
      "Hello!\n",
      "None\n",
      "My name is Alice and I am 25 years old.\n",
      "Homo sapiens\n"
     ]
    }
   ],
   "execution_count": 27
  },
  {
   "metadata": {
    "ExecuteTime": {
     "end_time": "2025-09-16T10:40:20.281713Z",
     "start_time": "2025-09-16T10:40:20.270133Z"
    }
   },
   "cell_type": "code",
   "source": [
    "class Point:\n",
    "    def __init__(self, x, y):\n",
    "        self.x = x\n",
    "        self.y = y\n",
    "    def __add__(self, other):\n",
    "        return Point(self.x + other.x, self.y + other.y)\n",
    "    def __str__(self):\n",
    "        return f\"Point({self.x}, {self.y})\"\n",
    "\n",
    "p1 = Point(2, 3)\n",
    "p2 = Point(4, 5)\n",
    "p3 = p1 + p2\n",
    "print(p3)"
   ],
   "id": "21e9133a7165f88f",
   "outputs": [
    {
     "name": "stdout",
     "output_type": "stream",
     "text": [
      "Point(6, 8)\n"
     ]
    }
   ],
   "execution_count": 31
  },
  {
   "metadata": {
    "ExecuteTime": {
     "end_time": "2025-09-16T10:41:06.748231Z",
     "start_time": "2025-09-16T10:41:06.733721Z"
    }
   },
   "cell_type": "code",
   "source": [
    "class Book:\n",
    "    def __init__(self, title, author, price):\n",
    "        self.title = title\n",
    "        self.author = author\n",
    "        self.price = price\n",
    "    def __str__(self):\n",
    "        return f\"Book({self.title}, {self.author}, {self.price})\"\n",
    "\n",
    "b1 = Book(\"Python\", author=\"<NAME>\", price=1500)\n",
    "print(b1)"
   ],
   "id": "caa70a880d43ae19",
   "outputs": [
    {
     "name": "stdout",
     "output_type": "stream",
     "text": [
      "Book(Python, <NAME>, 1500)\n"
     ]
    }
   ],
   "execution_count": 32
  },
  {
   "metadata": {},
   "cell_type": "code",
   "outputs": [],
   "execution_count": null,
   "source": "",
   "id": "261728287a920e8a"
  }
 ],
 "metadata": {
  "kernelspec": {
   "display_name": "Python 3",
   "language": "python",
   "name": "python3"
  },
  "language_info": {
   "codemirror_mode": {
    "name": "ipython",
    "version": 2
   },
   "file_extension": ".py",
   "mimetype": "text/x-python",
   "name": "python",
   "nbconvert_exporter": "python",
   "pygments_lexer": "ipython2",
   "version": "2.7.6"
  }
 },
 "nbformat": 4,
 "nbformat_minor": 5
}
